{
 "cells": [
  {
   "cell_type": "code",
   "id": "initial_id",
   "metadata": {
    "collapsed": true,
    "ExecuteTime": {
     "end_time": "2024-07-13T14:03:40.850219Z",
     "start_time": "2024-07-13T14:03:40.837597Z"
    }
   },
   "source": [
    "import matplotlib.pyplot as plt\n",
    "import seaborn as sns\n",
    "import pandas as pd\n",
    "from sklearn.linear_model import LinearRegression\n",
    "from sklearn.model_selection import train_test_split\n",
    "import numpy as np\n",
    "from sklearn.metrics import mean_squared_error, r2_score\n",
    "from sklearn.preprocessing import PolynomialFeatures\n"
   ],
   "outputs": [],
   "execution_count": 35
  },
  {
   "metadata": {
    "ExecuteTime": {
     "end_time": "2024-07-13T14:03:40.998078Z",
     "start_time": "2024-07-13T14:03:40.856839Z"
    }
   },
   "cell_type": "code",
   "source": [
    "df=pd.read_csv('datasets/Covid-19 stats.csv')\n",
    "df.head()"
   ],
   "id": "338316d8c6459f37",
   "outputs": [
    {
     "data": {
      "text/plain": [
       "   Unnamed: 0      continent           country  population         day  \\\n",
       "0           0  South-America  Falkland-Islands      3539.0  2024-07-10   \n",
       "1           1  North-America        Montserrat      4965.0  2024-07-10   \n",
       "2           2            NaN  Diamond-Princess         NaN  2024-07-10   \n",
       "3           3         Europe      Vatican-City       799.0  2024-07-10   \n",
       "4           4         Africa    Western-Sahara    626161.0  2024-07-10   \n",
       "\n",
       "                        time  cases_new  cases_active  cases_critical  \\\n",
       "0  2024-07-10T12:30:31+00:00        NaN           0.0             NaN   \n",
       "1  2024-07-10T12:30:31+00:00        NaN          19.0             NaN   \n",
       "2  2024-07-10T12:30:31+00:00        NaN           0.0             NaN   \n",
       "3  2024-07-10T12:30:31+00:00        NaN           0.0             NaN   \n",
       "4  2024-07-10T12:30:31+00:00        NaN           0.0             NaN   \n",
       "\n",
       "   cases_recovered  cases_1M_pop  cases_total  deaths_new  deaths_1M_pop  \\\n",
       "0           1930.0      545352.0         1930         NaN            NaN   \n",
       "1           1376.0      282578.0         1403         NaN         1611.0   \n",
       "2            699.0           NaN          712         NaN            NaN   \n",
       "3             29.0       36295.0           29         NaN            NaN   \n",
       "4              9.0          16.0           10         NaN            2.0   \n",
       "\n",
       "   deaths_total  tests1M_pop  teststotal  \n",
       "0           NaN    2439107.0      8632.0  \n",
       "1           8.0    3577442.0     17762.0  \n",
       "2          13.0          NaN         NaN  \n",
       "3           NaN          NaN         NaN  \n",
       "4           1.0          NaN         NaN  "
      ],
      "text/html": [
       "<div>\n",
       "<style scoped>\n",
       "    .dataframe tbody tr th:only-of-type {\n",
       "        vertical-align: middle;\n",
       "    }\n",
       "\n",
       "    .dataframe tbody tr th {\n",
       "        vertical-align: top;\n",
       "    }\n",
       "\n",
       "    .dataframe thead th {\n",
       "        text-align: right;\n",
       "    }\n",
       "</style>\n",
       "<table border=\"1\" class=\"dataframe\">\n",
       "  <thead>\n",
       "    <tr style=\"text-align: right;\">\n",
       "      <th></th>\n",
       "      <th>Unnamed: 0</th>\n",
       "      <th>continent</th>\n",
       "      <th>country</th>\n",
       "      <th>population</th>\n",
       "      <th>day</th>\n",
       "      <th>time</th>\n",
       "      <th>cases_new</th>\n",
       "      <th>cases_active</th>\n",
       "      <th>cases_critical</th>\n",
       "      <th>cases_recovered</th>\n",
       "      <th>cases_1M_pop</th>\n",
       "      <th>cases_total</th>\n",
       "      <th>deaths_new</th>\n",
       "      <th>deaths_1M_pop</th>\n",
       "      <th>deaths_total</th>\n",
       "      <th>tests1M_pop</th>\n",
       "      <th>teststotal</th>\n",
       "    </tr>\n",
       "  </thead>\n",
       "  <tbody>\n",
       "    <tr>\n",
       "      <th>0</th>\n",
       "      <td>0</td>\n",
       "      <td>South-America</td>\n",
       "      <td>Falkland-Islands</td>\n",
       "      <td>3539.0</td>\n",
       "      <td>2024-07-10</td>\n",
       "      <td>2024-07-10T12:30:31+00:00</td>\n",
       "      <td>NaN</td>\n",
       "      <td>0.0</td>\n",
       "      <td>NaN</td>\n",
       "      <td>1930.0</td>\n",
       "      <td>545352.0</td>\n",
       "      <td>1930</td>\n",
       "      <td>NaN</td>\n",
       "      <td>NaN</td>\n",
       "      <td>NaN</td>\n",
       "      <td>2439107.0</td>\n",
       "      <td>8632.0</td>\n",
       "    </tr>\n",
       "    <tr>\n",
       "      <th>1</th>\n",
       "      <td>1</td>\n",
       "      <td>North-America</td>\n",
       "      <td>Montserrat</td>\n",
       "      <td>4965.0</td>\n",
       "      <td>2024-07-10</td>\n",
       "      <td>2024-07-10T12:30:31+00:00</td>\n",
       "      <td>NaN</td>\n",
       "      <td>19.0</td>\n",
       "      <td>NaN</td>\n",
       "      <td>1376.0</td>\n",
       "      <td>282578.0</td>\n",
       "      <td>1403</td>\n",
       "      <td>NaN</td>\n",
       "      <td>1611.0</td>\n",
       "      <td>8.0</td>\n",
       "      <td>3577442.0</td>\n",
       "      <td>17762.0</td>\n",
       "    </tr>\n",
       "    <tr>\n",
       "      <th>2</th>\n",
       "      <td>2</td>\n",
       "      <td>NaN</td>\n",
       "      <td>Diamond-Princess</td>\n",
       "      <td>NaN</td>\n",
       "      <td>2024-07-10</td>\n",
       "      <td>2024-07-10T12:30:31+00:00</td>\n",
       "      <td>NaN</td>\n",
       "      <td>0.0</td>\n",
       "      <td>NaN</td>\n",
       "      <td>699.0</td>\n",
       "      <td>NaN</td>\n",
       "      <td>712</td>\n",
       "      <td>NaN</td>\n",
       "      <td>NaN</td>\n",
       "      <td>13.0</td>\n",
       "      <td>NaN</td>\n",
       "      <td>NaN</td>\n",
       "    </tr>\n",
       "    <tr>\n",
       "      <th>3</th>\n",
       "      <td>3</td>\n",
       "      <td>Europe</td>\n",
       "      <td>Vatican-City</td>\n",
       "      <td>799.0</td>\n",
       "      <td>2024-07-10</td>\n",
       "      <td>2024-07-10T12:30:31+00:00</td>\n",
       "      <td>NaN</td>\n",
       "      <td>0.0</td>\n",
       "      <td>NaN</td>\n",
       "      <td>29.0</td>\n",
       "      <td>36295.0</td>\n",
       "      <td>29</td>\n",
       "      <td>NaN</td>\n",
       "      <td>NaN</td>\n",
       "      <td>NaN</td>\n",
       "      <td>NaN</td>\n",
       "      <td>NaN</td>\n",
       "    </tr>\n",
       "    <tr>\n",
       "      <th>4</th>\n",
       "      <td>4</td>\n",
       "      <td>Africa</td>\n",
       "      <td>Western-Sahara</td>\n",
       "      <td>626161.0</td>\n",
       "      <td>2024-07-10</td>\n",
       "      <td>2024-07-10T12:30:31+00:00</td>\n",
       "      <td>NaN</td>\n",
       "      <td>0.0</td>\n",
       "      <td>NaN</td>\n",
       "      <td>9.0</td>\n",
       "      <td>16.0</td>\n",
       "      <td>10</td>\n",
       "      <td>NaN</td>\n",
       "      <td>2.0</td>\n",
       "      <td>1.0</td>\n",
       "      <td>NaN</td>\n",
       "      <td>NaN</td>\n",
       "    </tr>\n",
       "  </tbody>\n",
       "</table>\n",
       "</div>"
      ]
     },
     "execution_count": 36,
     "metadata": {},
     "output_type": "execute_result"
    }
   ],
   "execution_count": 36
  },
  {
   "metadata": {
    "ExecuteTime": {
     "end_time": "2024-07-13T14:03:41.009831Z",
     "start_time": "2024-07-13T14:03:41.000095Z"
    }
   },
   "cell_type": "code",
   "source": [
    "#First things first get rid of unwanted columns\n",
    "df.columns"
   ],
   "id": "f00ec3650b76c18f",
   "outputs": [
    {
     "data": {
      "text/plain": [
       "Index(['Unnamed: 0', 'continent', 'country', 'population', 'day', 'time',\n",
       "       'cases_new', 'cases_active', 'cases_critical', 'cases_recovered',\n",
       "       'cases_1M_pop', 'cases_total', 'deaths_new', 'deaths_1M_pop',\n",
       "       'deaths_total', 'tests1M_pop', 'teststotal'],\n",
       "      dtype='object')"
      ]
     },
     "execution_count": 37,
     "metadata": {},
     "output_type": "execute_result"
    }
   ],
   "execution_count": 37
  },
  {
   "metadata": {
    "ExecuteTime": {
     "end_time": "2024-07-13T14:03:41.037392Z",
     "start_time": "2024-07-13T14:03:41.013840Z"
    }
   },
   "cell_type": "code",
   "source": "df.drop(['day','time'],axis=1,inplace=True)\n",
   "id": "b72299a62283331c",
   "outputs": [],
   "execution_count": 38
  },
  {
   "metadata": {
    "ExecuteTime": {
     "end_time": "2024-07-13T14:03:41.142328Z",
     "start_time": "2024-07-13T14:03:41.038766Z"
    }
   },
   "cell_type": "code",
   "source": "df.head()",
   "id": "ac0159e3e26a584d",
   "outputs": [
    {
     "data": {
      "text/plain": [
       "   Unnamed: 0      continent           country  population  cases_new  \\\n",
       "0           0  South-America  Falkland-Islands      3539.0        NaN   \n",
       "1           1  North-America        Montserrat      4965.0        NaN   \n",
       "2           2            NaN  Diamond-Princess         NaN        NaN   \n",
       "3           3         Europe      Vatican-City       799.0        NaN   \n",
       "4           4         Africa    Western-Sahara    626161.0        NaN   \n",
       "\n",
       "   cases_active  cases_critical  cases_recovered  cases_1M_pop  cases_total  \\\n",
       "0           0.0             NaN           1930.0      545352.0         1930   \n",
       "1          19.0             NaN           1376.0      282578.0         1403   \n",
       "2           0.0             NaN            699.0           NaN          712   \n",
       "3           0.0             NaN             29.0       36295.0           29   \n",
       "4           0.0             NaN              9.0          16.0           10   \n",
       "\n",
       "   deaths_new  deaths_1M_pop  deaths_total  tests1M_pop  teststotal  \n",
       "0         NaN            NaN           NaN    2439107.0      8632.0  \n",
       "1         NaN         1611.0           8.0    3577442.0     17762.0  \n",
       "2         NaN            NaN          13.0          NaN         NaN  \n",
       "3         NaN            NaN           NaN          NaN         NaN  \n",
       "4         NaN            2.0           1.0          NaN         NaN  "
      ],
      "text/html": [
       "<div>\n",
       "<style scoped>\n",
       "    .dataframe tbody tr th:only-of-type {\n",
       "        vertical-align: middle;\n",
       "    }\n",
       "\n",
       "    .dataframe tbody tr th {\n",
       "        vertical-align: top;\n",
       "    }\n",
       "\n",
       "    .dataframe thead th {\n",
       "        text-align: right;\n",
       "    }\n",
       "</style>\n",
       "<table border=\"1\" class=\"dataframe\">\n",
       "  <thead>\n",
       "    <tr style=\"text-align: right;\">\n",
       "      <th></th>\n",
       "      <th>Unnamed: 0</th>\n",
       "      <th>continent</th>\n",
       "      <th>country</th>\n",
       "      <th>population</th>\n",
       "      <th>cases_new</th>\n",
       "      <th>cases_active</th>\n",
       "      <th>cases_critical</th>\n",
       "      <th>cases_recovered</th>\n",
       "      <th>cases_1M_pop</th>\n",
       "      <th>cases_total</th>\n",
       "      <th>deaths_new</th>\n",
       "      <th>deaths_1M_pop</th>\n",
       "      <th>deaths_total</th>\n",
       "      <th>tests1M_pop</th>\n",
       "      <th>teststotal</th>\n",
       "    </tr>\n",
       "  </thead>\n",
       "  <tbody>\n",
       "    <tr>\n",
       "      <th>0</th>\n",
       "      <td>0</td>\n",
       "      <td>South-America</td>\n",
       "      <td>Falkland-Islands</td>\n",
       "      <td>3539.0</td>\n",
       "      <td>NaN</td>\n",
       "      <td>0.0</td>\n",
       "      <td>NaN</td>\n",
       "      <td>1930.0</td>\n",
       "      <td>545352.0</td>\n",
       "      <td>1930</td>\n",
       "      <td>NaN</td>\n",
       "      <td>NaN</td>\n",
       "      <td>NaN</td>\n",
       "      <td>2439107.0</td>\n",
       "      <td>8632.0</td>\n",
       "    </tr>\n",
       "    <tr>\n",
       "      <th>1</th>\n",
       "      <td>1</td>\n",
       "      <td>North-America</td>\n",
       "      <td>Montserrat</td>\n",
       "      <td>4965.0</td>\n",
       "      <td>NaN</td>\n",
       "      <td>19.0</td>\n",
       "      <td>NaN</td>\n",
       "      <td>1376.0</td>\n",
       "      <td>282578.0</td>\n",
       "      <td>1403</td>\n",
       "      <td>NaN</td>\n",
       "      <td>1611.0</td>\n",
       "      <td>8.0</td>\n",
       "      <td>3577442.0</td>\n",
       "      <td>17762.0</td>\n",
       "    </tr>\n",
       "    <tr>\n",
       "      <th>2</th>\n",
       "      <td>2</td>\n",
       "      <td>NaN</td>\n",
       "      <td>Diamond-Princess</td>\n",
       "      <td>NaN</td>\n",
       "      <td>NaN</td>\n",
       "      <td>0.0</td>\n",
       "      <td>NaN</td>\n",
       "      <td>699.0</td>\n",
       "      <td>NaN</td>\n",
       "      <td>712</td>\n",
       "      <td>NaN</td>\n",
       "      <td>NaN</td>\n",
       "      <td>13.0</td>\n",
       "      <td>NaN</td>\n",
       "      <td>NaN</td>\n",
       "    </tr>\n",
       "    <tr>\n",
       "      <th>3</th>\n",
       "      <td>3</td>\n",
       "      <td>Europe</td>\n",
       "      <td>Vatican-City</td>\n",
       "      <td>799.0</td>\n",
       "      <td>NaN</td>\n",
       "      <td>0.0</td>\n",
       "      <td>NaN</td>\n",
       "      <td>29.0</td>\n",
       "      <td>36295.0</td>\n",
       "      <td>29</td>\n",
       "      <td>NaN</td>\n",
       "      <td>NaN</td>\n",
       "      <td>NaN</td>\n",
       "      <td>NaN</td>\n",
       "      <td>NaN</td>\n",
       "    </tr>\n",
       "    <tr>\n",
       "      <th>4</th>\n",
       "      <td>4</td>\n",
       "      <td>Africa</td>\n",
       "      <td>Western-Sahara</td>\n",
       "      <td>626161.0</td>\n",
       "      <td>NaN</td>\n",
       "      <td>0.0</td>\n",
       "      <td>NaN</td>\n",
       "      <td>9.0</td>\n",
       "      <td>16.0</td>\n",
       "      <td>10</td>\n",
       "      <td>NaN</td>\n",
       "      <td>2.0</td>\n",
       "      <td>1.0</td>\n",
       "      <td>NaN</td>\n",
       "      <td>NaN</td>\n",
       "    </tr>\n",
       "  </tbody>\n",
       "</table>\n",
       "</div>"
      ]
     },
     "execution_count": 39,
     "metadata": {},
     "output_type": "execute_result"
    }
   ],
   "execution_count": 39
  },
  {
   "metadata": {
    "ExecuteTime": {
     "end_time": "2024-07-13T14:03:41.205869Z",
     "start_time": "2024-07-13T14:03:41.151341Z"
    }
   },
   "cell_type": "code",
   "source": [
    "# Delete all rows with not real data from the column\n",
    "df = df[df['continent'] != 'All']\n",
    "df = df[df['continent']!='NaN']"
   ],
   "id": "a26b50cc0c86607",
   "outputs": [],
   "execution_count": 40
  },
  {
   "metadata": {
    "ExecuteTime": {
     "end_time": "2024-07-13T14:03:41.292932Z",
     "start_time": "2024-07-13T14:03:41.207887Z"
    }
   },
   "cell_type": "code",
   "source": "df = df.dropna(subset=['continent'], how='all')",
   "id": "863c086d606a8a97",
   "outputs": [],
   "execution_count": 41
  },
  {
   "metadata": {
    "ExecuteTime": {
     "end_time": "2024-07-13T14:03:41.314943Z",
     "start_time": "2024-07-13T14:03:41.294655Z"
    }
   },
   "cell_type": "code",
   "source": "df.shape",
   "id": "d090ac18211fb18e",
   "outputs": [
    {
     "data": {
      "text/plain": [
       "(235, 15)"
      ]
     },
     "execution_count": 42,
     "metadata": {},
     "output_type": "execute_result"
    }
   ],
   "execution_count": 42
  },
  {
   "metadata": {
    "ExecuteTime": {
     "end_time": "2024-07-13T14:03:41.339389Z",
     "start_time": "2024-07-13T14:03:41.314943Z"
    }
   },
   "cell_type": "code",
   "source": "df.head()",
   "id": "8252b02979ef2fa1",
   "outputs": [
    {
     "data": {
      "text/plain": [
       "   Unnamed: 0      continent           country    population  cases_new  \\\n",
       "0           0  South-America  Falkland-Islands  3.539000e+03        NaN   \n",
       "1           1  North-America        Montserrat  4.965000e+03        NaN   \n",
       "3           3         Europe      Vatican-City  7.990000e+02        NaN   \n",
       "4           4         Africa    Western-Sahara  6.261610e+05        NaN   \n",
       "6           6           Asia             China  1.448471e+09        NaN   \n",
       "\n",
       "   cases_active  cases_critical  cases_recovered  cases_1M_pop  cases_total  \\\n",
       "0           0.0             NaN           1930.0      545352.0         1930   \n",
       "1          19.0             NaN           1376.0      282578.0         1403   \n",
       "3           0.0             NaN             29.0       36295.0           29   \n",
       "4           0.0             NaN              9.0          16.0           10   \n",
       "6      118977.0             NaN         379053.0         347.0       503302   \n",
       "\n",
       "   deaths_new  deaths_1M_pop  deaths_total  tests1M_pop   teststotal  \n",
       "0         NaN            NaN           NaN    2439107.0       8632.0  \n",
       "1         NaN         1611.0           8.0    3577442.0      17762.0  \n",
       "3         NaN            NaN           NaN          NaN          NaN  \n",
       "4         NaN            2.0           1.0          NaN          NaN  \n",
       "6         NaN            4.0        5272.0     110461.0  160000000.0  "
      ],
      "text/html": [
       "<div>\n",
       "<style scoped>\n",
       "    .dataframe tbody tr th:only-of-type {\n",
       "        vertical-align: middle;\n",
       "    }\n",
       "\n",
       "    .dataframe tbody tr th {\n",
       "        vertical-align: top;\n",
       "    }\n",
       "\n",
       "    .dataframe thead th {\n",
       "        text-align: right;\n",
       "    }\n",
       "</style>\n",
       "<table border=\"1\" class=\"dataframe\">\n",
       "  <thead>\n",
       "    <tr style=\"text-align: right;\">\n",
       "      <th></th>\n",
       "      <th>Unnamed: 0</th>\n",
       "      <th>continent</th>\n",
       "      <th>country</th>\n",
       "      <th>population</th>\n",
       "      <th>cases_new</th>\n",
       "      <th>cases_active</th>\n",
       "      <th>cases_critical</th>\n",
       "      <th>cases_recovered</th>\n",
       "      <th>cases_1M_pop</th>\n",
       "      <th>cases_total</th>\n",
       "      <th>deaths_new</th>\n",
       "      <th>deaths_1M_pop</th>\n",
       "      <th>deaths_total</th>\n",
       "      <th>tests1M_pop</th>\n",
       "      <th>teststotal</th>\n",
       "    </tr>\n",
       "  </thead>\n",
       "  <tbody>\n",
       "    <tr>\n",
       "      <th>0</th>\n",
       "      <td>0</td>\n",
       "      <td>South-America</td>\n",
       "      <td>Falkland-Islands</td>\n",
       "      <td>3.539000e+03</td>\n",
       "      <td>NaN</td>\n",
       "      <td>0.0</td>\n",
       "      <td>NaN</td>\n",
       "      <td>1930.0</td>\n",
       "      <td>545352.0</td>\n",
       "      <td>1930</td>\n",
       "      <td>NaN</td>\n",
       "      <td>NaN</td>\n",
       "      <td>NaN</td>\n",
       "      <td>2439107.0</td>\n",
       "      <td>8632.0</td>\n",
       "    </tr>\n",
       "    <tr>\n",
       "      <th>1</th>\n",
       "      <td>1</td>\n",
       "      <td>North-America</td>\n",
       "      <td>Montserrat</td>\n",
       "      <td>4.965000e+03</td>\n",
       "      <td>NaN</td>\n",
       "      <td>19.0</td>\n",
       "      <td>NaN</td>\n",
       "      <td>1376.0</td>\n",
       "      <td>282578.0</td>\n",
       "      <td>1403</td>\n",
       "      <td>NaN</td>\n",
       "      <td>1611.0</td>\n",
       "      <td>8.0</td>\n",
       "      <td>3577442.0</td>\n",
       "      <td>17762.0</td>\n",
       "    </tr>\n",
       "    <tr>\n",
       "      <th>3</th>\n",
       "      <td>3</td>\n",
       "      <td>Europe</td>\n",
       "      <td>Vatican-City</td>\n",
       "      <td>7.990000e+02</td>\n",
       "      <td>NaN</td>\n",
       "      <td>0.0</td>\n",
       "      <td>NaN</td>\n",
       "      <td>29.0</td>\n",
       "      <td>36295.0</td>\n",
       "      <td>29</td>\n",
       "      <td>NaN</td>\n",
       "      <td>NaN</td>\n",
       "      <td>NaN</td>\n",
       "      <td>NaN</td>\n",
       "      <td>NaN</td>\n",
       "    </tr>\n",
       "    <tr>\n",
       "      <th>4</th>\n",
       "      <td>4</td>\n",
       "      <td>Africa</td>\n",
       "      <td>Western-Sahara</td>\n",
       "      <td>6.261610e+05</td>\n",
       "      <td>NaN</td>\n",
       "      <td>0.0</td>\n",
       "      <td>NaN</td>\n",
       "      <td>9.0</td>\n",
       "      <td>16.0</td>\n",
       "      <td>10</td>\n",
       "      <td>NaN</td>\n",
       "      <td>2.0</td>\n",
       "      <td>1.0</td>\n",
       "      <td>NaN</td>\n",
       "      <td>NaN</td>\n",
       "    </tr>\n",
       "    <tr>\n",
       "      <th>6</th>\n",
       "      <td>6</td>\n",
       "      <td>Asia</td>\n",
       "      <td>China</td>\n",
       "      <td>1.448471e+09</td>\n",
       "      <td>NaN</td>\n",
       "      <td>118977.0</td>\n",
       "      <td>NaN</td>\n",
       "      <td>379053.0</td>\n",
       "      <td>347.0</td>\n",
       "      <td>503302</td>\n",
       "      <td>NaN</td>\n",
       "      <td>4.0</td>\n",
       "      <td>5272.0</td>\n",
       "      <td>110461.0</td>\n",
       "      <td>160000000.0</td>\n",
       "    </tr>\n",
       "  </tbody>\n",
       "</table>\n",
       "</div>"
      ]
     },
     "execution_count": 43,
     "metadata": {},
     "output_type": "execute_result"
    }
   ],
   "execution_count": 43
  },
  {
   "metadata": {
    "ExecuteTime": {
     "end_time": "2024-07-13T14:03:42.142388Z",
     "start_time": "2024-07-13T14:03:41.339389Z"
    }
   },
   "cell_type": "code",
   "source": [
    "#Visualize the data of total cases by their continent\n",
    "plt.figure(figsize=(10, 6))\n",
    "\n",
    "\n",
    "sns.barplot(x='continent', y='cases_total', data=df, estimator=sum)\n",
    "plt.title('Total Cases by Continent')\n",
    "\n",
    "\n"
   ],
   "id": "aae0101bdf90f329",
   "outputs": [
    {
     "data": {
      "text/plain": [
       "Text(0.5, 1.0, 'Total Cases by Continent')"
      ]
     },
     "execution_count": 44,
     "metadata": {},
     "output_type": "execute_result"
    },
    {
     "data": {
      "text/plain": [
       "<Figure size 1000x600 with 1 Axes>"
      ],
      "image/png": "[encoded data removed]"
     },
     "metadata": {},
     "output_type": "display_data"
    }
   ],
   "execution_count": 44
  },
  {
   "metadata": {
    "ExecuteTime": {
     "end_time": "2024-07-13T14:03:43.240464Z",
     "start_time": "2024-07-13T14:03:42.148219Z"
    }
   },
   "cell_type": "code",
   "source": [
    "#Visualize the data of total cases by their continent\n",
    "\n",
    "plt.figure(figsize=(10, 6))\n",
    "sns.barplot(x='continent', y='deaths_total', data=df, estimator=sum)\n",
    "plt.title('Total Deaths by Continent')\n",
    "\n",
    "plt.show()"
   ],
   "id": "324925c212a8b163",
   "outputs": [
    {
     "data": {
      "text/plain": [
       "<Figure size 1000x600 with 1 Axes>"
      ],
      "image/png": "[encoded data removed]"
     },
     "metadata": {},
     "output_type": "display_data"
    }
   ],
   "execution_count": 45
  },
  {
   "metadata": {
    "ExecuteTime": {
     "end_time": "2024-07-13T14:03:43.287330Z",
     "start_time": "2024-07-13T14:03:43.243464Z"
    }
   },
   "cell_type": "code",
   "source": [
    "#Groupby the deaths and cases to compare them for each contitnent\n",
    "temp_deaths=df['deaths_total'].groupby(df['continent']).sum()\n",
    "temp_cases=df['cases_total'].groupby(df['continent']).sum()\n",
    "temp_continent=df['continent'].unique()"
   ],
   "id": "1a88f31377f6b36f",
   "outputs": [],
   "execution_count": 46
  },
  {
   "metadata": {
    "ExecuteTime": {
     "end_time": "2024-07-13T14:03:43.422535Z",
     "start_time": "2024-07-13T14:03:43.291339Z"
    }
   },
   "cell_type": "code",
   "source": "temp_cases",
   "id": "4e2fda115b802cb7",
   "outputs": [
    {
     "data": {
      "text/plain": [
       "continent\n",
       "Africa            25721848\n",
       "Asia             443000530\n",
       "Europe           506812396\n",
       "North-America    263778264\n",
       "Oceania           29791542\n",
       "South-America    140401758\n",
       "Name: cases_total, dtype: int64"
      ]
     },
     "execution_count": 47,
     "metadata": {},
     "output_type": "execute_result"
    }
   ],
   "execution_count": 47
  },
  {
   "metadata": {
    "ExecuteTime": {
     "end_time": "2024-07-13T14:03:43.590279Z",
     "start_time": "2024-07-13T14:03:43.424542Z"
    }
   },
   "cell_type": "code",
   "source": "temp_deaths",
   "id": "866fde11c9a12cc3",
   "outputs": [
    {
     "data": {
      "text/plain": [
       "continent\n",
       "Africa            517784.0\n",
       "Asia             3107324.0\n",
       "Europe           4203648.0\n",
       "North-America    3391882.0\n",
       "Oceania            66030.0\n",
       "South-America    2734664.0\n",
       "Name: deaths_total, dtype: float64"
      ]
     },
     "execution_count": 48,
     "metadata": {},
     "output_type": "execute_result"
    }
   ],
   "execution_count": 48
  },
  {
   "metadata": {},
   "cell_type": "markdown",
   "source": "Here we can see that the number difference between cases and deaths is huge hence the cases ratio is reduced ",
   "id": "8ced12a77923a876"
  },
  {
   "metadata": {},
   "cell_type": "markdown",
   "source": "The cases_total Ratio is 1:100",
   "id": "fdd14380aba247e2"
  },
  {
   "metadata": {
    "ExecuteTime": {
     "end_time": "2024-07-13T14:03:43.612035Z",
     "start_time": "2024-07-13T14:03:43.594281Z"
    }
   },
   "cell_type": "code",
   "source": [
    "temp_case_total=[]\n",
    "for i in temp_cases:\n",
    "    i=i/100\n",
    "    temp_case_total.append(i)"
   ],
   "id": "9152bd98935d6efc",
   "outputs": [],
   "execution_count": 49
  },
  {
   "metadata": {
    "ExecuteTime": {
     "end_time": "2024-07-13T14:03:44.216483Z",
     "start_time": "2024-07-13T14:03:43.619550Z"
    }
   },
   "cell_type": "code",
   "source": [
    "plt.figure(figsize=(10, 6))  # Adjust the figure size as needed\n",
    "x=np.arange(len(temp_continent))\n",
    "\n",
    "# Plot a barplot to compare the data between cases_total and deaths_total\n",
    "plt.bar(temp_continent, temp_case_total, 0.4, label='Cases', color='skyblue')\n",
    "plt.bar(x+0.4, temp_deaths, 0.4, label='Deaths', color='lightcoral')\n",
    "\n",
    "# Set axis labels and title\n",
    "plt.xlabel('Continent')\n",
    "plt.ylabel('Count')\n",
    "plt.title('Comparison between the Total Deaths and Cases by Continent [Cases Ratio 1:100]')\n",
    "plt.legend()\n",
    "\n",
    "\n"
   ],
   "id": "d593f262ff0fb543",
   "outputs": [
    {
     "data": {
      "text/plain": [
       "<matplotlib.legend.Legend at 0x275dd2185c0>"
      ]
     },
     "execution_count": 50,
     "metadata": {},
     "output_type": "execute_result"
    },
    {
     "data": {
      "text/plain": [
       "<Figure size 1000x600 with 1 Axes>"
      ],
      "image/png": "[encoded data removed]"
     },
     "metadata": {},
     "output_type": "display_data"
    }
   ],
   "execution_count": 50
  },
  {
   "metadata": {
    "ExecuteTime": {
     "end_time": "2024-07-13T14:03:44.230120Z",
     "start_time": "2024-07-13T14:03:44.222485Z"
    }
   },
   "cell_type": "code",
   "source": [
    "#Drop all the textual data for plotting Correlation Matrix\n",
    "data=df.drop(['continent','country'], axis=1)"
   ],
   "id": "9687d99e9bfd3433",
   "outputs": [],
   "execution_count": 51
  },
  {
   "metadata": {
    "ExecuteTime": {
     "end_time": "2024-07-13T14:03:46.094252Z",
     "start_time": "2024-07-13T14:03:44.235126Z"
    }
   },
   "cell_type": "code",
   "source": [
    "#Find correlation matrix\n",
    "plt.figure(figsize=(12, 8))\n",
    "\n",
    "corr = data.corr()\n",
    "sns.heatmap(corr, annot=True, cmap='coolwarm', fmt='.2f')\n",
    "plt.title('Correlation Matrix')\n",
    "plt.show()"
   ],
   "id": "1283bb21d56643dd",
   "outputs": [
    {
     "data": {
      "text/plain": [
       "<Figure size 1200x800 with 2 Axes>"
      ],
      "image/png": "[encoded data removed]"
     },
     "metadata": {},
     "output_type": "display_data"
    }
   ],
   "execution_count": 52
  },
  {
   "metadata": {
    "ExecuteTime": {
     "end_time": "2024-07-13T14:03:46.106092Z",
     "start_time": "2024-07-13T14:03:46.095260Z"
    }
   },
   "cell_type": "code",
   "source": "df['population'].isna().sum()",
   "id": "ce934fa234f29d13",
   "outputs": [
    {
     "data": {
      "text/plain": [
       "np.int64(6)"
      ]
     },
     "execution_count": 53,
     "metadata": {},
     "output_type": "execute_result"
    }
   ],
   "execution_count": 53
  },
  {
   "metadata": {
    "ExecuteTime": {
     "end_time": "2024-07-13T14:03:46.122315Z",
     "start_time": "2024-07-13T14:03:46.107106Z"
    }
   },
   "cell_type": "code",
   "source": "df['population'] = df['population'].fillna(df['population'].mean())",
   "id": "ad22812ac856992b",
   "outputs": [],
   "execution_count": 54
  },
  {
   "metadata": {
    "ExecuteTime": {
     "end_time": "2024-07-13T14:03:46.141832Z",
     "start_time": "2024-07-13T14:03:46.126617Z"
    }
   },
   "cell_type": "code",
   "source": [
    "X=df['population']\n",
    "y=df['cases_total']\n",
    "print(X.shape)\n",
    "print(y.shape)"
   ],
   "id": "cc72ecb3721e3324",
   "outputs": [
    {
     "name": "stdout",
     "output_type": "stream",
     "text": [
      "(235,)\n",
      "(235,)\n"
     ]
    }
   ],
   "execution_count": 55
  },
  {
   "metadata": {
    "ExecuteTime": {
     "end_time": "2024-07-13T14:03:46.157210Z",
     "start_time": "2024-07-13T14:03:46.144085Z"
    }
   },
   "cell_type": "code",
   "source": "X=X.to_frame()\n",
   "id": "3ff250f4aea17655",
   "outputs": [],
   "execution_count": 56
  },
  {
   "metadata": {},
   "cell_type": "markdown",
   "source": "Since the data in population and cases_total are  large ranges in data values, to reduce the impact of extreme values (outliers) we are applying Log transformation this reduces the impact of outliers on the model. ",
   "id": "8249ad17afea4b10"
  },
  {
   "metadata": {
    "ExecuteTime": {
     "end_time": "2024-07-13T14:03:46.179087Z",
     "start_time": "2024-07-13T14:03:46.162108Z"
    }
   },
   "cell_type": "code",
   "source": [
    "X=np.log(X)\n",
    "\n",
    "#To avoid log(0) we add 1\n",
    "y=np.log(y)+1"
   ],
   "id": "e623fcccfa7876f0",
   "outputs": [],
   "execution_count": 57
  },
  {
   "metadata": {
    "ExecuteTime": {
     "end_time": "2024-07-13T14:03:46.195003Z",
     "start_time": "2024-07-13T14:03:46.184085Z"
    }
   },
   "cell_type": "code",
   "source": [
    "poly = PolynomialFeatures(degree=3)\n",
    "X_poly = poly.fit_transform(X)"
   ],
   "id": "464c3f581447152c",
   "outputs": [],
   "execution_count": 58
  },
  {
   "metadata": {
    "ExecuteTime": {
     "end_time": "2024-07-13T14:03:46.230058Z",
     "start_time": "2024-07-13T14:03:46.203235Z"
    }
   },
   "cell_type": "code",
   "source": "X_train, X_test, y_train, y_test = train_test_split(X, y, test_size=0.2, random_state=42)",
   "id": "f5df5b3145aa625a",
   "outputs": [],
   "execution_count": 59
  },
  {
   "metadata": {
    "ExecuteTime": {
     "end_time": "2024-07-13T14:03:46.296428Z",
     "start_time": "2024-07-13T14:03:46.234068Z"
    }
   },
   "cell_type": "code",
   "source": "X_train",
   "id": "a7e3c150fac4e7aa",
   "outputs": [
    {
     "data": {
      "text/plain": [
       "     population\n",
       "119   16.545415\n",
       "157   16.240813\n",
       "150   16.887085\n",
       "160   15.307732\n",
       "235   17.362078\n",
       "..          ...\n",
       "108   13.003654\n",
       "16    10.328625\n",
       "94    16.820244\n",
       "181   17.922379\n",
       "104   14.909142\n",
       "\n",
       "[188 rows x 1 columns]"
      ],
      "text/html": [
       "<div>\n",
       "<style scoped>\n",
       "    .dataframe tbody tr th:only-of-type {\n",
       "        vertical-align: middle;\n",
       "    }\n",
       "\n",
       "    .dataframe tbody tr th {\n",
       "        vertical-align: top;\n",
       "    }\n",
       "\n",
       "    .dataframe thead th {\n",
       "        text-align: right;\n",
       "    }\n",
       "</style>\n",
       "<table border=\"1\" class=\"dataframe\">\n",
       "  <thead>\n",
       "    <tr style=\"text-align: right;\">\n",
       "      <th></th>\n",
       "      <th>population</th>\n",
       "    </tr>\n",
       "  </thead>\n",
       "  <tbody>\n",
       "    <tr>\n",
       "      <th>119</th>\n",
       "      <td>16.545415</td>\n",
       "    </tr>\n",
       "    <tr>\n",
       "      <th>157</th>\n",
       "      <td>16.240813</td>\n",
       "    </tr>\n",
       "    <tr>\n",
       "      <th>150</th>\n",
       "      <td>16.887085</td>\n",
       "    </tr>\n",
       "    <tr>\n",
       "      <th>160</th>\n",
       "      <td>15.307732</td>\n",
       "    </tr>\n",
       "    <tr>\n",
       "      <th>235</th>\n",
       "      <td>17.362078</td>\n",
       "    </tr>\n",
       "    <tr>\n",
       "      <th>...</th>\n",
       "      <td>...</td>\n",
       "    </tr>\n",
       "    <tr>\n",
       "      <th>108</th>\n",
       "      <td>13.003654</td>\n",
       "    </tr>\n",
       "    <tr>\n",
       "      <th>16</th>\n",
       "      <td>10.328625</td>\n",
       "    </tr>\n",
       "    <tr>\n",
       "      <th>94</th>\n",
       "      <td>16.820244</td>\n",
       "    </tr>\n",
       "    <tr>\n",
       "      <th>181</th>\n",
       "      <td>17.922379</td>\n",
       "    </tr>\n",
       "    <tr>\n",
       "      <th>104</th>\n",
       "      <td>14.909142</td>\n",
       "    </tr>\n",
       "  </tbody>\n",
       "</table>\n",
       "<p>188 rows × 1 columns</p>\n",
       "</div>"
      ]
     },
     "execution_count": 60,
     "metadata": {},
     "output_type": "execute_result"
    }
   ],
   "execution_count": 60
  },
  {
   "metadata": {
    "ExecuteTime": {
     "end_time": "2024-07-13T14:03:46.316002Z",
     "start_time": "2024-07-13T14:03:46.298437Z"
    }
   },
   "cell_type": "code",
   "source": "y_train",
   "id": "5864090a83060e8",
   "outputs": [
    {
     "data": {
      "text/plain": [
       "119    13.492600\n",
       "157    14.924590\n",
       "150    14.419135\n",
       "160    14.873679\n",
       "235    19.697472\n",
       "         ...    \n",
       "108    12.707011\n",
       "16      9.908154\n",
       "94     12.402385\n",
       "181    16.220740\n",
       "104    12.963166\n",
       "Name: cases_total, Length: 188, dtype: float64"
      ]
     },
     "execution_count": 61,
     "metadata": {},
     "output_type": "execute_result"
    }
   ],
   "execution_count": 61
  },
  {
   "metadata": {
    "ExecuteTime": {
     "end_time": "2024-07-13T14:03:46.335864Z",
     "start_time": "2024-07-13T14:03:46.320013Z"
    }
   },
   "cell_type": "code",
   "source": [
    "print(X_train.shape)\n",
    "print(y_train.shape)"
   ],
   "id": "e6592309df11bea5",
   "outputs": [
    {
     "name": "stdout",
     "output_type": "stream",
     "text": [
      "(188, 1)\n",
      "(188,)\n"
     ]
    }
   ],
   "execution_count": 62
  },
  {
   "metadata": {
    "ExecuteTime": {
     "end_time": "2024-07-13T14:03:46.354170Z",
     "start_time": "2024-07-13T14:03:46.341871Z"
    }
   },
   "cell_type": "code",
   "source": "model=LinearRegression()",
   "id": "e5c2b25050c46919",
   "outputs": [],
   "execution_count": 63
  },
  {
   "metadata": {
    "ExecuteTime": {
     "end_time": "2024-07-13T14:03:46.377637Z",
     "start_time": "2024-07-13T14:03:46.355249Z"
    }
   },
   "cell_type": "code",
   "source": "model.fit(X_train,y_train)",
   "id": "82e2dc963caa93ab",
   "outputs": [
    {
     "data": {
      "text/plain": [
       "LinearRegression()"
      ],
      "text/html": [
       "<style>#sk-container-id-2 {\n",
       "  /* Definition of color scheme common for light and dark mode */\n",
       "  --sklearn-color-text: black;\n",
       "  --sklearn-color-line: gray;\n",
       "  /* Definition of color scheme for unfitted estimators */\n",
       "  --sklearn-color-unfitted-level-0: #fff5e6;\n",
       "  --sklearn-color-unfitted-level-1: #f6e4d2;\n",
       "  --sklearn-color-unfitted-level-2: #ffe0b3;\n",
       "  --sklearn-color-unfitted-level-3: chocolate;\n",
       "  /* Definition of color scheme for fitted estimators */\n",
       "  --sklearn-color-fitted-level-0: #f0f8ff;\n",
       "  --sklearn-color-fitted-level-1: #d4ebff;\n",
       "  --sklearn-color-fitted-level-2: #b3dbfd;\n",
       "  --sklearn-color-fitted-level-3: cornflowerblue;\n",
       "\n",
       "  /* Specific color for light theme */\n",
       "  --sklearn-color-text-on-default-background: var(--sg-text-color, var(--theme-code-foreground, var(--jp-content-font-color1, black)));\n",
       "  --sklearn-color-background: var(--sg-background-color, var(--theme-background, var(--jp-layout-color0, white)));\n",
       "  --sklearn-color-border-box: var(--sg-text-color, var(--theme-code-foreground, var(--jp-content-font-color1, black)));\n",
       "  --sklearn-color-icon: #696969;\n",
       "\n",
       "  @media (prefers-color-scheme: dark) {\n",
       "    /* Redefinition of color scheme for dark theme */\n",
       "    --sklearn-color-text-on-default-background: var(--sg-text-color, var(--theme-code-foreground, var(--jp-content-font-color1, white)));\n",
       "    --sklearn-color-background: var(--sg-background-color, var(--theme-background, var(--jp-layout-color0, #111)));\n",
       "    --sklearn-color-border-box: var(--sg-text-color, var(--theme-code-foreground, var(--jp-content-font-color1, white)));\n",
       "    --sklearn-color-icon: #878787;\n",
       "  }\n",
       "}\n",
       "\n",
       "#sk-container-id-2 {\n",
       "  color: var(--sklearn-color-text);\n",
       "}\n",
       "\n",
       "#sk-container-id-2 pre {\n",
       "  padding: 0;\n",
       "}\n",
       "\n",
       "#sk-container-id-2 input.sk-hidden--visually {\n",
       "  border: 0;\n",
       "  clip: rect(1px 1px 1px 1px);\n",
       "  clip: rect(1px, 1px, 1px, 1px);\n",
       "  height: 1px;\n",
       "  margin: -1px;\n",
       "  overflow: hidden;\n",
       "  padding: 0;\n",
       "  position: absolute;\n",
       "  width: 1px;\n",
       "}\n",
       "\n",
       "#sk-container-id-2 div.sk-dashed-wrapped {\n",
       "  border: 1px dashed var(--sklearn-color-line);\n",
       "  margin: 0 0.4em 0.5em 0.4em;\n",
       "  box-sizing: border-box;\n",
       "  padding-bottom: 0.4em;\n",
       "  background-color: var(--sklearn-color-background);\n",
       "}\n",
       "\n",
       "#sk-container-id-2 div.sk-container {\n",
       "  /* jupyter's `normalize.less` sets `[hidden] { display: none; }`\n",
       "     but bootstrap.min.css set `[hidden] { display: none !important; }`\n",
       "     so we also need the `!important` here to be able to override the\n",
       "     default hidden behavior on the sphinx rendered scikit-learn.org.\n",
       "     See: https://github.com/scikit-learn/scikit-learn/issues/21755 */\n",
       "  display: inline-block !important;\n",
       "  position: relative;\n",
       "}\n",
       "\n",
       "#sk-container-id-2 div.sk-text-repr-fallback {\n",
       "  display: none;\n",
       "}\n",
       "\n",
       "div.sk-parallel-item,\n",
       "div.sk-serial,\n",
       "div.sk-item {\n",
       "  /* draw centered vertical line to link estimators */\n",
       "  background-image: linear-gradient(var(--sklearn-color-text-on-default-background), var(--sklearn-color-text-on-default-background));\n",
       "  background-size: 2px 100%;\n",
       "  background-repeat: no-repeat;\n",
       "  background-position: center center;\n",
       "}\n",
       "\n",
       "/* Parallel-specific style estimator block */\n",
       "\n",
       "#sk-container-id-2 div.sk-parallel-item::after {\n",
       "  content: \"\";\n",
       "  width: 100%;\n",
       "  border-bottom: 2px solid var(--sklearn-color-text-on-default-background);\n",
       "  flex-grow: 1;\n",
       "}\n",
       "\n",
       "#sk-container-id-2 div.sk-parallel {\n",
       "  display: flex;\n",
       "  align-items: stretch;\n",
       "  justify-content: center;\n",
       "  background-color: var(--sklearn-color-background);\n",
       "  position: relative;\n",
       "}\n",
       "\n",
       "#sk-container-id-2 div.sk-parallel-item {\n",
       "  display: flex;\n",
       "  flex-direction: column;\n",
       "}\n",
       "\n",
       "#sk-container-id-2 div.sk-parallel-item:first-child::after {\n",
       "  align-self: flex-end;\n",
       "  width: 50%;\n",
       "}\n",
       "\n",
       "#sk-container-id-2 div.sk-parallel-item:last-child::after {\n",
       "  align-self: flex-start;\n",
       "  width: 50%;\n",
       "}\n",
       "\n",
       "#sk-container-id-2 div.sk-parallel-item:only-child::after {\n",
       "  width: 0;\n",
       "}\n",
       "\n",
       "/* Serial-specific style estimator block */\n",
       "\n",
       "#sk-container-id-2 div.sk-serial {\n",
       "  display: flex;\n",
       "  flex-direction: column;\n",
       "  align-items: center;\n",
       "  background-color: var(--sklearn-color-background);\n",
       "  padding-right: 1em;\n",
       "  padding-left: 1em;\n",
       "}\n",
       "\n",
       "\n",
       "/* Toggleable style: style used for estimator/Pipeline/ColumnTransformer box that is\n",
       "clickable and can be expanded/collapsed.\n",
       "- Pipeline and ColumnTransformer use this feature and define the default style\n",
       "- Estimators will overwrite some part of the style using the `sk-estimator` class\n",
       "*/\n",
       "\n",
       "/* Pipeline and ColumnTransformer style (default) */\n",
       "\n",
       "#sk-container-id-2 div.sk-toggleable {\n",
       "  /* Default theme specific background. It is overwritten whether we have a\n",
       "  specific estimator or a Pipeline/ColumnTransformer */\n",
       "  background-color: var(--sklearn-color-background);\n",
       "}\n",
       "\n",
       "/* Toggleable label */\n",
       "#sk-container-id-2 label.sk-toggleable__label {\n",
       "  cursor: pointer;\n",
       "  display: block;\n",
       "  width: 100%;\n",
       "  margin-bottom: 0;\n",
       "  padding: 0.5em;\n",
       "  box-sizing: border-box;\n",
       "  text-align: center;\n",
       "}\n",
       "\n",
       "#sk-container-id-2 label.sk-toggleable__label-arrow:before {\n",
       "  /* Arrow on the left of the label */\n",
       "  content: \"▸\";\n",
       "  float: left;\n",
       "  margin-right: 0.25em;\n",
       "  color: var(--sklearn-color-icon);\n",
       "}\n",
       "\n",
       "#sk-container-id-2 label.sk-toggleable__label-arrow:hover:before {\n",
       "  color: var(--sklearn-color-text);\n",
       "}\n",
       "\n",
       "/* Toggleable content - dropdown */\n",
       "\n",
       "#sk-container-id-2 div.sk-toggleable__content {\n",
       "  max-height: 0;\n",
       "  max-width: 0;\n",
       "  overflow: hidden;\n",
       "  text-align: left;\n",
       "  /* unfitted */\n",
       "  background-color: var(--sklearn-color-unfitted-level-0);\n",
       "}\n",
       "\n",
       "#sk-container-id-2 div.sk-toggleable__content.fitted {\n",
       "  /* fitted */\n",
       "  background-color: var(--sklearn-color-fitted-level-0);\n",
       "}\n",
       "\n",
       "#sk-container-id-2 div.sk-toggleable__content pre {\n",
       "  margin: 0.2em;\n",
       "  border-radius: 0.25em;\n",
       "  color: var(--sklearn-color-text);\n",
       "  /* unfitted */\n",
       "  background-color: var(--sklearn-color-unfitted-level-0);\n",
       "}\n",
       "\n",
       "#sk-container-id-2 div.sk-toggleable__content.fitted pre {\n",
       "  /* unfitted */\n",
       "  background-color: var(--sklearn-color-fitted-level-0);\n",
       "}\n",
       "\n",
       "#sk-container-id-2 input.sk-toggleable__control:checked~div.sk-toggleable__content {\n",
       "  /* Expand drop-down */\n",
       "  max-height: 200px;\n",
       "  max-width: 100%;\n",
       "  overflow: auto;\n",
       "}\n",
       "\n",
       "#sk-container-id-2 input.sk-toggleable__control:checked~label.sk-toggleable__label-arrow:before {\n",
       "  content: \"▾\";\n",
       "}\n",
       "\n",
       "/* Pipeline/ColumnTransformer-specific style */\n",
       "\n",
       "#sk-container-id-2 div.sk-label input.sk-toggleable__control:checked~label.sk-toggleable__label {\n",
       "  color: var(--sklearn-color-text);\n",
       "  background-color: var(--sklearn-color-unfitted-level-2);\n",
       "}\n",
       "\n",
       "#sk-container-id-2 div.sk-label.fitted input.sk-toggleable__control:checked~label.sk-toggleable__label {\n",
       "  background-color: var(--sklearn-color-fitted-level-2);\n",
       "}\n",
       "\n",
       "/* Estimator-specific style */\n",
       "\n",
       "/* Colorize estimator box */\n",
       "#sk-container-id-2 div.sk-estimator input.sk-toggleable__control:checked~label.sk-toggleable__label {\n",
       "  /* unfitted */\n",
       "  background-color: var(--sklearn-color-unfitted-level-2);\n",
       "}\n",
       "\n",
       "#sk-container-id-2 div.sk-estimator.fitted input.sk-toggleable__control:checked~label.sk-toggleable__label {\n",
       "  /* fitted */\n",
       "  background-color: var(--sklearn-color-fitted-level-2);\n",
       "}\n",
       "\n",
       "#sk-container-id-2 div.sk-label label.sk-toggleable__label,\n",
       "#sk-container-id-2 div.sk-label label {\n",
       "  /* The background is the default theme color */\n",
       "  color: var(--sklearn-color-text-on-default-background);\n",
       "}\n",
       "\n",
       "/* On hover, darken the color of the background */\n",
       "#sk-container-id-2 div.sk-label:hover label.sk-toggleable__label {\n",
       "  color: var(--sklearn-color-text);\n",
       "  background-color: var(--sklearn-color-unfitted-level-2);\n",
       "}\n",
       "\n",
       "/* Label box, darken color on hover, fitted */\n",
       "#sk-container-id-2 div.sk-label.fitted:hover label.sk-toggleable__label.fitted {\n",
       "  color: var(--sklearn-color-text);\n",
       "  background-color: var(--sklearn-color-fitted-level-2);\n",
       "}\n",
       "\n",
       "/* Estimator label */\n",
       "\n",
       "#sk-container-id-2 div.sk-label label {\n",
       "  font-family: monospace;\n",
       "  font-weight: bold;\n",
       "  display: inline-block;\n",
       "  line-height: 1.2em;\n",
       "}\n",
       "\n",
       "#sk-container-id-2 div.sk-label-container {\n",
       "  text-align: center;\n",
       "}\n",
       "\n",
       "/* Estimator-specific */\n",
       "#sk-container-id-2 div.sk-estimator {\n",
       "  font-family: monospace;\n",
       "  border: 1px dotted var(--sklearn-color-border-box);\n",
       "  border-radius: 0.25em;\n",
       "  box-sizing: border-box;\n",
       "  margin-bottom: 0.5em;\n",
       "  /* unfitted */\n",
       "  background-color: var(--sklearn-color-unfitted-level-0);\n",
       "}\n",
       "\n",
       "#sk-container-id-2 div.sk-estimator.fitted {\n",
       "  /* fitted */\n",
       "  background-color: var(--sklearn-color-fitted-level-0);\n",
       "}\n",
       "\n",
       "/* on hover */\n",
       "#sk-container-id-2 div.sk-estimator:hover {\n",
       "  /* unfitted */\n",
       "  background-color: var(--sklearn-color-unfitted-level-2);\n",
       "}\n",
       "\n",
       "#sk-container-id-2 div.sk-estimator.fitted:hover {\n",
       "  /* fitted */\n",
       "  background-color: var(--sklearn-color-fitted-level-2);\n",
       "}\n",
       "\n",
       "/* Specification for estimator info (e.g. \"i\" and \"?\") */\n",
       "\n",
       "/* Common style for \"i\" and \"?\" */\n",
       "\n",
       ".sk-estimator-doc-link,\n",
       "a:link.sk-estimator-doc-link,\n",
       "a:visited.sk-estimator-doc-link {\n",
       "  float: right;\n",
       "  font-size: smaller;\n",
       "  line-height: 1em;\n",
       "  font-family: monospace;\n",
       "  background-color: var(--sklearn-color-background);\n",
       "  border-radius: 1em;\n",
       "  height: 1em;\n",
       "  width: 1em;\n",
       "  text-decoration: none !important;\n",
       "  margin-left: 1ex;\n",
       "  /* unfitted */\n",
       "  border: var(--sklearn-color-unfitted-level-1) 1pt solid;\n",
       "  color: var(--sklearn-color-unfitted-level-1);\n",
       "}\n",
       "\n",
       ".sk-estimator-doc-link.fitted,\n",
       "a:link.sk-estimator-doc-link.fitted,\n",
       "a:visited.sk-estimator-doc-link.fitted {\n",
       "  /* fitted */\n",
       "  border: var(--sklearn-color-fitted-level-1) 1pt solid;\n",
       "  color: var(--sklearn-color-fitted-level-1);\n",
       "}\n",
       "\n",
       "/* On hover */\n",
       "div.sk-estimator:hover .sk-estimator-doc-link:hover,\n",
       ".sk-estimator-doc-link:hover,\n",
       "div.sk-label-container:hover .sk-estimator-doc-link:hover,\n",
       ".sk-estimator-doc-link:hover {\n",
       "  /* unfitted */\n",
       "  background-color: var(--sklearn-color-unfitted-level-3);\n",
       "  color: var(--sklearn-color-background);\n",
       "  text-decoration: none;\n",
       "}\n",
       "\n",
       "div.sk-estimator.fitted:hover .sk-estimator-doc-link.fitted:hover,\n",
       ".sk-estimator-doc-link.fitted:hover,\n",
       "div.sk-label-container:hover .sk-estimator-doc-link.fitted:hover,\n",
       ".sk-estimator-doc-link.fitted:hover {\n",
       "  /* fitted */\n",
       "  background-color: var(--sklearn-color-fitted-level-3);\n",
       "  color: var(--sklearn-color-background);\n",
       "  text-decoration: none;\n",
       "}\n",
       "\n",
       "/* Span, style for the box shown on hovering the info icon */\n",
       ".sk-estimator-doc-link span {\n",
       "  display: none;\n",
       "  z-index: 9999;\n",
       "  position: relative;\n",
       "  font-weight: normal;\n",
       "  right: .2ex;\n",
       "  padding: .5ex;\n",
       "  margin: .5ex;\n",
       "  width: min-content;\n",
       "  min-width: 20ex;\n",
       "  max-width: 50ex;\n",
       "  color: var(--sklearn-color-text);\n",
       "  box-shadow: 2pt 2pt 4pt #999;\n",
       "  /* unfitted */\n",
       "  background: var(--sklearn-color-unfitted-level-0);\n",
       "  border: .5pt solid var(--sklearn-color-unfitted-level-3);\n",
       "}\n",
       "\n",
       ".sk-estimator-doc-link.fitted span {\n",
       "  /* fitted */\n",
       "  background: var(--sklearn-color-fitted-level-0);\n",
       "  border: var(--sklearn-color-fitted-level-3);\n",
       "}\n",
       "\n",
       ".sk-estimator-doc-link:hover span {\n",
       "  display: block;\n",
       "}\n",
       "\n",
       "/* \"?\"-specific style due to the `<a>` HTML tag */\n",
       "\n",
       "#sk-container-id-2 a.estimator_doc_link {\n",
       "  float: right;\n",
       "  font-size: 1rem;\n",
       "  line-height: 1em;\n",
       "  font-family: monospace;\n",
       "  background-color: var(--sklearn-color-background);\n",
       "  border-radius: 1rem;\n",
       "  height: 1rem;\n",
       "  width: 1rem;\n",
       "  text-decoration: none;\n",
       "  /* unfitted */\n",
       "  color: var(--sklearn-color-unfitted-level-1);\n",
       "  border: var(--sklearn-color-unfitted-level-1) 1pt solid;\n",
       "}\n",
       "\n",
       "#sk-container-id-2 a.estimator_doc_link.fitted {\n",
       "  /* fitted */\n",
       "  border: var(--sklearn-color-fitted-level-1) 1pt solid;\n",
       "  color: var(--sklearn-color-fitted-level-1);\n",
       "}\n",
       "\n",
       "/* On hover */\n",
       "#sk-container-id-2 a.estimator_doc_link:hover {\n",
       "  /* unfitted */\n",
       "  background-color: var(--sklearn-color-unfitted-level-3);\n",
       "  color: var(--sklearn-color-background);\n",
       "  text-decoration: none;\n",
       "}\n",
       "\n",
       "#sk-container-id-2 a.estimator_doc_link.fitted:hover {\n",
       "  /* fitted */\n",
       "  background-color: var(--sklearn-color-fitted-level-3);\n",
       "}\n",
       "</style><div id=\"sk-container-id-2\" class=\"sk-top-container\"><div class=\"sk-text-repr-fallback\"><pre>LinearRegression()</pre><b>In a Jupyter environment, please rerun this cell to show the HTML representation or trust the notebook. <br />On GitHub, the HTML representation is unable to render, please try loading this page with nbviewer.org.</b></div><div class=\"sk-container\" hidden><div class=\"sk-item\"><div class=\"sk-estimator fitted sk-toggleable\"><input class=\"sk-toggleable__control sk-hidden--visually\" id=\"sk-estimator-id-2\" type=\"checkbox\" checked><label for=\"sk-estimator-id-2\" class=\"sk-toggleable__label fitted sk-toggleable__label-arrow fitted\">&nbsp;&nbsp;LinearRegression<a class=\"sk-estimator-doc-link fitted\" rel=\"noreferrer\" target=\"_blank\" href=\"https://scikit-learn.org/1.5/modules/generated/sklearn.linear_model.LinearRegression.html\">?<span>Documentation for LinearRegression</span></a><span class=\"sk-estimator-doc-link fitted\">i<span>Fitted</span></span></label><div class=\"sk-toggleable__content fitted\"><pre>LinearRegression()</pre></div> </div></div></div></div>"
      ]
     },
     "execution_count": 64,
     "metadata": {},
     "output_type": "execute_result"
    }
   ],
   "execution_count": 64
  },
  {
   "metadata": {
    "ExecuteTime": {
     "end_time": "2024-07-13T14:03:46.390757Z",
     "start_time": "2024-07-13T14:03:46.381646Z"
    }
   },
   "cell_type": "code",
   "source": [
    "y_pred = model.predict(X_test)\n",
    "y_pred"
   ],
   "id": "23fa61b677c087f4",
   "outputs": [
    {
     "data": {
      "text/plain": [
       "array([13.06010689, 15.48776067, 14.98823637, 14.52389773, 12.44514895,\n",
       "       13.83579445, 15.16321631, 14.53353485, 15.00902516,  9.66869613,\n",
       "       17.61468739, 10.13502564, 16.29392446, 14.80826588, 15.08023912,\n",
       "       14.20421046,  9.5680679 , 13.19460318, 15.45717194, 14.0029464 ,\n",
       "       15.64430778,  9.33792531, 11.64405074, 14.15435267, 15.00902516,\n",
       "       12.4446512 , 14.08186918, 14.586419  , 13.10879152,  9.69472423,\n",
       "       12.65492231, 12.68385383, 10.55538783, 12.18555924, 13.88659997,\n",
       "       13.02778389, 14.59281358, 11.47155838, 14.55162627, 14.26141908,\n",
       "       14.91198859, 15.5038129 , 13.281477  , 11.32589697, 14.59446626,\n",
       "       15.91437644, 14.29757352])"
      ]
     },
     "execution_count": 65,
     "metadata": {},
     "output_type": "execute_result"
    }
   ],
   "execution_count": 65
  },
  {
   "metadata": {
    "ExecuteTime": {
     "end_time": "2024-07-13T14:03:46.407494Z",
     "start_time": "2024-07-13T14:03:46.396913Z"
    }
   },
   "cell_type": "code",
   "source": "model.predict([[1550908]])",
   "id": "c151882331760fb3",
   "outputs": [
    {
     "name": "stderr",
     "output_type": "stream",
     "text": [
      "C:\\Users\\Srinidhi.S\\AppData\\Local\\Programs\\Python\\Python312\\Lib\\site-packages\\sklearn\\base.py:493: UserWarning: X does not have valid feature names, but LinearRegression was fitted with feature names\n",
      "  warnings.warn(\n"
     ]
    },
    {
     "data": {
      "text/plain": [
       "array([1091499.74871403])"
      ]
     },
     "execution_count": 66,
     "metadata": {},
     "output_type": "execute_result"
    }
   ],
   "execution_count": 66
  },
  {
   "metadata": {
    "ExecuteTime": {
     "end_time": "2024-07-13T14:03:46.438632Z",
     "start_time": "2024-07-13T14:03:46.409501Z"
    }
   },
   "cell_type": "code",
   "source": [
    "# Calculate Mean Squared Error and R2 Score\n",
    "mse = mean_squared_error(y_test, y_pred)\n",
    "print(f\"Mean Squared Error: {mse}\")\n",
    "\n",
    "r2 = r2_score(y_test, y_pred)\n",
    "print(f\"R-squared: {r2}\")"
   ],
   "id": "f1a0c148353fe2e4",
   "outputs": [
    {
     "name": "stdout",
     "output_type": "stream",
     "text": [
      "Mean Squared Error: 3.6093763033177533\n",
      "R-squared: 0.5803161736911372\n"
     ]
    }
   ],
   "execution_count": 67
  }
 ],
 "metadata": {
  "kernelspec": {
   "display_name": "Python 3",
   "language": "python",
   "name": "python3"
  },
  "language_info": {
   "codemirror_mode": {
    "name": "ipython",
    "version": 2
   },
   "file_extension": ".py",
   "mimetype": "text/x-python",
   "name": "python",
   "nbconvert_exporter": "python",
   "pygments_lexer": "ipython2",
   "version": "2.7.6"
  }
 },
 "nbformat": 4,
 "nbformat_minor": 5
}
